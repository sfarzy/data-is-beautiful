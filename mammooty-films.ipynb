{
 "cells": [
  {
   "cell_type": "code",
   "execution_count": null,
   "metadata": {
    "collapsed": false,
    "scrolled": true
   },
   "outputs": [],
   "source": [
    "import os\n",
    "import csv\n",
    "\n",
    "import requests\n",
    "from bs4 import BeautifulSoup\n",
    "\n",
    "URL = \"https://en.wikipedia.org/wiki/Mammootty_filmography\"\n",
    "output_name = \"Mamootty films\"\n",
    "\n",
    "scrape(URL, output_name)"
   ]
  },
  {
   "cell_type": "code",
   "execution_count": null,
   "metadata": {
    "collapsed": true
   },
   "outputs": [],
   "source": [
    "def write_html_table_to_csv(table, writer):\n",
    "    saved_rowspans = []\n",
    "    for row in table.findAll(\"tr\"):\n",
    "        cells = row.findAll([\"th\", \"td\"])\n",
    "        if cells:\n",
    "            cleaned = clean_data(cells)\n",
    "            writer.writerow(cleaned)\n",
    "            "
   ]
  },
  {
   "cell_type": "code",
   "execution_count": null,
   "metadata": {
    "collapsed": true
   },
   "outputs": [],
   "source": [
    "def scrape(url, output_name):\n",
    "    response = requests.get(URL)\n",
    "    soup = BeautifulSoup(response.content, \"lxml\")\n",
    "    table_classes = {\"class\": [\"wikitable\", \"sortable\", \"plainrowheaders\"]}\n",
    "    wikitables = soup.findAll(\"table\", table_classes)\n",
    "    \n",
    "    try:\n",
    "        os.mkdir(output_name)\n",
    "    except Exception:\n",
    "        pass\n",
    "    \n",
    "    for index, table in enumerate(wikitables):\n",
    "        if index == 0:\n",
    "            filename = output_name\n",
    "        else:\n",
    "            filename = output_name + '_' + str(index)\n",
    "        \n",
    "        filepath = os.path.join(output_name, filename) + '.csv'\n",
    "        \n",
    "        with open(filepath, mode='w', newline='', encoding='utf-8') as output:\n",
    "            csv_writer = csv.writer(output, quoting=csv.QUOTE_ALL)\n",
    "            \n",
    "            write_html_table_to_csv(table, csv_writer)"
   ]
  },
  {
   "cell_type": "code",
   "execution_count": null,
   "metadata": {
    "collapsed": true
   },
   "outputs": [],
   "source": [
    "def clean_data(row):\n",
    "    cleaned_cells = []\n",
    "    for cell in row:\n",
    "        references = cell.findAll(\"sup\", {\"class\": \"reference\"})\n",
    "        if references:\n",
    "            for ref in references:\n",
    "                ref.extract()\n",
    "                \n",
    "        sortkeys = cell.findAll(\"span\", {\"class\": \"sortkey\"})\n",
    "        if sortkeys:\n",
    "            for ref in sortkeys:\n",
    "                ref.extract()\n",
    "                \n",
    "        text_items = cell.findAll(text=True)\n",
    "        no_footnotes = [text for text in text_items if text[0] != '[']']\n",
    "        \n",
    "        cleaned = (\n",
    "            ''.join(no_footnotes)\n",
    "            .replace('\\xa0', ' ')\n",
    "            .replace('\\n', ' ')\n",
    "            .strip()\n",
    "        )\n",
    "        \n",
    "        cleaned_cells += cleaned\n",
    "        \n",
    "    return cleaned_cells"
   ]
  }
 ],
 "metadata": {
  "kernelspec": {
   "display_name": "Python 3",
   "language": "python",
   "name": "python3"
  },
  "language_info": {
   "codemirror_mode": {
    "name": "ipython",
    "version": 3
   },
   "file_extension": ".py",
   "mimetype": "text/x-python",
   "name": "python",
   "nbconvert_exporter": "python",
   "pygments_lexer": "ipython3",
   "version": "3.5.3"
  }
 },
 "nbformat": 4,
 "nbformat_minor": 2
}
